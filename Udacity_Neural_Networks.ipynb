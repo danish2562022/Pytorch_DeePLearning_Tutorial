{
 "cells": [
  {
   "cell_type": "code",
   "execution_count": 1,
   "id": "eaea7650",
   "metadata": {},
   "outputs": [],
   "source": [
    "import numpy as np"
   ]
  },
  {
   "cell_type": "code",
   "execution_count": 3,
   "id": "449ace1e",
   "metadata": {},
   "outputs": [],
   "source": [
    "\n",
    "import torch\n",
    "\n",
    "\n",
    "import matplotlib.pyplot as plt"
   ]
  },
  {
   "cell_type": "code",
   "execution_count": 4,
   "id": "df9472c3",
   "metadata": {},
   "outputs": [],
   "source": [
    "from torchvision import datasets, transforms\n",
    "\n",
    "# Define a transform to normalize the data\n",
    "transform = transforms.Compose([transforms.ToTensor(),\n",
    "                              transforms.Normalize((0.5,), (0.5,)),\n",
    "                              ])\n",
    "\n",
    "# Download and load the training data\n",
    "trainset = datasets.MNIST('~/.pytorch/MNIST_data/', download=True, train=True, transform=transform)\n",
    "trainloader = torch.utils.data.DataLoader(trainset, batch_size=64, shuffle=True)"
   ]
  },
  {
   "cell_type": "code",
   "execution_count": 5,
   "id": "5d48ad6e",
   "metadata": {},
   "outputs": [
    {
     "name": "stdout",
     "output_type": "stream",
     "text": [
      "<class 'torch.Tensor'>\n"
     ]
    }
   ],
   "source": [
    "dataiter=iter(trainloader)\n",
    "images,labels=dataiter.next()\n",
    "\n",
    "print(type(images))\n"
   ]
  },
  {
   "cell_type": "code",
   "execution_count": 6,
   "id": "ce8fb11a",
   "metadata": {},
   "outputs": [
    {
     "name": "stdout",
     "output_type": "stream",
     "text": [
      "torch.Size([64, 1, 28, 28])\n",
      "torch.Size([64])\n"
     ]
    }
   ],
   "source": [
    "print(images.shape)\n",
    "print(labels.shape)"
   ]
  },
  {
   "cell_type": "code",
   "execution_count": 7,
   "id": "d189e739",
   "metadata": {},
   "outputs": [
    {
     "data": {
      "text/plain": [
       "<matplotlib.image.AxesImage at 0x1e024eee0d0>"
      ]
     },
     "execution_count": 7,
     "metadata": {},
     "output_type": "execute_result"
    },
    {
     "data": {
      "image/png": "[encoded data removed]",
      "text/plain": [
       "<Figure size 432x288 with 1 Axes>"
      ]
     },
     "metadata": {
      "needs_background": "light"
     },
     "output_type": "display_data"
    }
   ],
   "source": [
    "plt.imshow(images[1].numpy().squeeze(),cmap='Greys_r')"
   ]
  },
  {
   "cell_type": "code",
   "execution_count": 18,
   "id": "ca0b4815",
   "metadata": {},
   "outputs": [
    {
     "data": {
      "text/plain": [
       "(28, 28)"
      ]
     },
     "execution_count": 18,
     "metadata": {},
     "output_type": "execute_result"
    }
   ],
   "source": [
    "images[1].numpy().squeeze().shape"
   ]
  },
  {
   "cell_type": "code",
   "execution_count": 17,
   "id": "9b14c9ea",
   "metadata": {},
   "outputs": [
    {
     "data": {
      "text/plain": [
       "(1, 28, 28)"
      ]
     },
     "execution_count": 17,
     "metadata": {},
     "output_type": "execute_result"
    }
   ],
   "source": [
    "images[1].numpy().shape"
   ]
  },
  {
   "cell_type": "code",
   "execution_count": 43,
   "id": "b20e1391",
   "metadata": {},
   "outputs": [],
   "source": [
    "def activation(x):\n",
    "    return 1/(1+torch.exp(-x))\n",
    "\n",
    "input=784\n",
    "output=10\n",
    "hidden=256\n",
    "batch_size=64\n",
    "\n",
    "W1=torch.randn(input,hidden)\n",
    "W2=torch.randn(hidden,output)\n",
    "B1=torch.randn(1,hidden)\n",
    "B2=torch.randn(1,output)"
   ]
  },
  {
   "cell_type": "code",
   "execution_count": 44,
   "id": "d9d54963",
   "metadata": {},
   "outputs": [
    {
     "data": {
      "text/plain": [
       "torch.Size([64, 784])"
      ]
     },
     "execution_count": 44,
     "metadata": {},
     "output_type": "execute_result"
    }
   ],
   "source": [
    "img_reshape=images.view(batch_size,-1)\n",
    "img_reshape.shape"
   ]
  },
  {
   "cell_type": "code",
   "execution_count": 45,
   "id": "b3751240",
   "metadata": {},
   "outputs": [],
   "source": [
    "output=torch.mm(activation(torch.mm(img_reshape,W1)+B1),W2)+B2"
   ]
  },
  {
   "cell_type": "code",
   "execution_count": 46,
   "id": "39f79712",
   "metadata": {},
   "outputs": [
    {
     "data": {
      "text/plain": [
       "torch.Size([64, 10])"
      ]
     },
     "execution_count": 46,
     "metadata": {},
     "output_type": "execute_result"
    }
   ],
   "source": [
    "output.shape"
   ]
  },
  {
   "cell_type": "code",
   "execution_count": 47,
   "id": "e2e94264",
   "metadata": {},
   "outputs": [
    {
     "data": {
      "text/plain": [
       "tensor([[ 7.7623e+00,  3.3379e+00,  9.5813e+00, -6.5258e+00,  4.8200e+00,\n",
       "          3.6789e+00,  2.9357e+00,  1.1601e+01, -7.5396e+00,  3.7246e+00],\n",
       "        [ 2.0338e+01,  7.9908e+00,  1.1539e+01, -1.0489e+01,  2.9900e+00,\n",
       "          9.9792e+00,  5.3796e+00, -1.8266e+00, -1.0127e+01,  2.8361e+00],\n",
       "        [ 1.7160e+01,  6.6906e+00,  1.5226e+01, -1.1991e+01,  9.8029e-01,\n",
       "          1.0557e+01, -4.3514e+00,  6.7763e+00, -4.4468e+00,  3.1612e+00],\n",
       "        [ 9.5179e+00,  7.5503e+00,  1.4550e+01, -6.8682e+00, -4.0116e-01,\n",
       "          9.5549e+00, -1.1655e+01,  7.0761e+00, -7.8170e+00,  2.7457e+00],\n",
       "        [ 4.0156e+00,  5.1594e+00,  6.4743e+00, -3.2242e+00, -1.2712e+00,\n",
       "          1.0276e+01,  1.6850e+00,  5.5610e+00, -5.5052e-01,  5.8074e+00],\n",
       "        [ 3.8962e+00,  2.6180e+00,  7.1597e+00, -1.4884e+00, -4.9346e+00,\n",
       "          3.7040e-01,  4.5633e+00,  1.0215e+01, -7.7291e+00,  1.1962e+00],\n",
       "        [ 1.0695e+01,  7.2770e+00,  1.7277e+01, -9.4776e+00,  5.6748e+00,\n",
       "          1.7263e+01, -6.3791e+00,  1.7469e+01, -1.0876e+01,  1.1697e+01],\n",
       "        [ 2.0905e+00,  7.5950e+00,  2.6856e+00, -1.3857e+01, -6.0337e+00,\n",
       "          7.2194e+00, -7.5918e+00,  1.2576e+01, -3.7375e+00,  5.2818e+00],\n",
       "        [ 7.6764e+00, -7.5685e-01,  7.0637e+00, -4.8862e+00, -9.0457e+00,\n",
       "          1.4501e+01, -4.7953e-01,  1.1981e+01,  4.0367e+00,  7.0819e+00],\n",
       "        [ 1.2149e+00,  2.4744e+00,  6.7309e+00,  6.6479e+00, -5.3712e+00,\n",
       "          9.6560e-01,  5.7063e+00,  1.0227e+01, -5.4641e+00,  7.4330e+00],\n",
       "        [ 1.5419e+00,  1.7644e+01,  3.0090e+00, -2.8098e+00,  3.3980e+00,\n",
       "          1.4990e+01, -4.3380e+00,  7.0737e+00, -6.4548e+00, -1.0611e+00],\n",
       "        [ 4.0498e+00,  4.1062e+00,  2.7738e-01, -1.2742e+01,  5.1463e+00,\n",
       "         -5.2638e-01,  6.2395e+00,  9.4862e+00,  5.5210e+00, -4.3396e+00],\n",
       "        [ 8.4261e+00,  5.3585e-01,  6.3449e+00,  7.6817e+00, -4.1928e+00,\n",
       "          5.1340e+00, -3.6493e+00,  1.2279e+01,  2.5260e+00,  1.0675e+01],\n",
       "        [ 1.0378e+01,  9.5410e+00,  1.4211e+01, -1.1565e+01,  4.0055e+00,\n",
       "          3.3971e+00, -7.2175e+00,  1.5954e+01, -3.2767e+00,  1.9665e+00],\n",
       "        [ 8.8360e+00,  5.1231e+00,  7.1929e+00, -6.9967e+00,  1.0985e+00,\n",
       "         -3.6137e+00, -2.3164e+00,  7.3966e+00, -8.6563e+00,  2.3301e+00],\n",
       "        [ 3.0448e+00,  7.6265e+00,  1.5224e+00, -5.4187e+00, -5.2159e-01,\n",
       "          9.7844e+00, -5.0792e-01,  1.3508e+01, -4.5471e+00,  7.6482e+00],\n",
       "        [ 1.9288e+00,  6.6586e+00, -1.9105e+00, -4.9296e+00,  5.7822e+00,\n",
       "          7.7609e+00, -2.2792e+00,  1.1492e+01, -3.7063e+00,  5.4081e+00],\n",
       "        [-2.2544e+00,  1.0768e+00, -4.6237e+00, -3.0073e+00,  4.0591e+00,\n",
       "          1.9104e+00, -8.2070e+00,  3.2800e+00, -5.2228e+00,  4.8905e+00],\n",
       "        [ 8.7134e+00,  3.9305e+00,  1.0381e+01, -5.7434e+00,  3.1308e+00,\n",
       "          1.4788e+01,  1.2719e+01,  7.5234e+00,  2.8540e-01,  2.9983e+00],\n",
       "        [ 1.3039e+01,  5.3130e+00,  9.0413e+00, -1.1628e-01,  7.3834e+00,\n",
       "          1.4822e+01,  2.9253e+00,  5.4412e+00, -6.1091e+00,  1.0899e+01],\n",
       "        [-3.3810e+00,  1.0414e+01, -1.1148e+00,  4.7932e+00,  2.8678e-01,\n",
       "          1.4625e+01,  4.1666e+00,  1.2832e+00, -6.3221e+00,  1.3219e+00],\n",
       "        [ 1.4587e+01,  1.3004e+01,  1.3852e+01, -1.0689e+01,  3.7679e-01,\n",
       "          2.2821e+00, -2.6424e+00,  1.2846e+01, -4.1426e+00,  8.5561e+00],\n",
       "        [ 8.8825e-01,  1.2525e+01,  8.5168e+00,  7.0976e+00,  2.7881e-01,\n",
       "          4.6860e+00, -2.2985e+00,  1.2005e+01, -7.9028e+00, -1.2433e+00],\n",
       "        [ 1.0049e+01, -7.1539e-01,  9.3158e+00, -7.9344e+00, -1.1103e+00,\n",
       "          1.3783e+01, -4.5035e+00,  6.8778e+00, -5.8519e+00,  7.3010e+00],\n",
       "        [ 8.4183e+00, -3.5226e-01,  5.0554e+00, -1.1065e+01,  2.3942e+00,\n",
       "          9.9061e+00,  2.3522e+00,  6.4208e+00, -3.9959e+00,  8.3382e+00],\n",
       "        [ 6.8061e+00, -2.3599e+00, -1.4526e+00, -5.1945e+00,  1.0148e+01,\n",
       "          4.8809e+00, -1.3686e+00,  1.3918e+01, -3.7415e+00,  7.9072e+00],\n",
       "        [ 1.5651e+01, -4.9362e+00,  1.3411e+01, -1.7239e+01, -5.1952e+00,\n",
       "          1.1072e+00, -5.8032e+00,  1.2812e+01, -2.0016e+00,  1.1890e+01],\n",
       "        [ 8.0550e+00,  6.8518e+00,  1.2635e+01, -5.7790e+00, -3.7366e-01,\n",
       "          7.6698e+00, -6.3114e+00,  1.7086e+01, -1.2852e+00,  1.9430e+00],\n",
       "        [ 7.9880e+00,  4.0488e+00,  2.6535e+00, -1.6662e+01,  3.4019e+00,\n",
       "          6.4786e+00,  3.9516e+00,  6.0450e+00, -8.1561e+00,  4.3652e+00],\n",
       "        [ 7.6514e+00,  5.3363e+00,  5.5500e+00, -4.4088e+00,  1.7984e+00,\n",
       "          4.5063e+00,  5.4512e-01,  1.1675e+01, -3.0681e-01,  1.2635e+01],\n",
       "        [ 9.0342e-01,  1.0593e+01,  7.6816e+00, -9.2758e+00,  3.9011e+00,\n",
       "          7.5183e+00,  4.5496e+00,  7.0751e+00,  1.9340e+00,  3.1826e+00],\n",
       "        [ 4.6597e+00, -3.6112e+00,  8.7452e+00, -2.8185e+00,  6.9234e+00,\n",
       "          7.6220e+00, -2.8612e+00,  1.8076e+01, -5.7785e+00,  8.8692e+00],\n",
       "        [ 9.2261e+00, -1.0136e+00,  1.0307e+01, -1.2688e+01, -1.9211e+00,\n",
       "          1.0481e+00, -1.4880e+00,  8.4631e+00, -8.9630e-01, -2.8217e+00],\n",
       "        [ 4.4080e+00,  5.4260e+00,  7.7742e+00, -2.8365e-01, -4.4423e+00,\n",
       "          1.3966e+01, -7.2697e+00,  1.7634e+01, -8.5105e+00,  4.0747e+00],\n",
       "        [ 1.2601e+01,  5.7053e-01,  7.6711e+00, -1.1336e+01,  9.0537e+00,\n",
       "          6.9106e+00, -9.4263e+00,  1.0425e+01, -8.3812e+00,  1.0502e+01],\n",
       "        [ 3.5097e-01, -1.1170e+00,  1.5855e+01, -1.1013e+01,  1.8281e-01,\n",
       "          7.4964e+00, -4.6957e+00,  8.7278e+00, -4.0652e+00,  1.2240e+01],\n",
       "        [ 4.7807e+00,  1.1287e+01,  8.7811e+00, -1.3564e+01, -1.2977e+00,\n",
       "          6.5760e+00, -3.2879e+00,  7.7529e+00, -7.6835e+00,  1.7015e-01],\n",
       "        [ 5.8099e+00,  3.6100e+00,  5.7401e-01,  1.9917e+00,  1.1075e+01,\n",
       "          1.0159e+01,  2.8542e+00,  7.7466e+00, -6.7904e+00,  9.4000e+00],\n",
       "        [ 5.6804e+00,  7.3569e+00,  6.2342e-01, -4.0691e+00,  7.1997e+00,\n",
       "          7.6460e+00,  3.5132e+00,  3.8765e+00, -8.6204e+00,  8.1826e+00],\n",
       "        [ 7.7148e+00,  1.8652e+00,  4.5284e+00,  3.1808e-01, -6.9967e+00,\n",
       "          1.9414e+00, -1.8381e+00,  8.8239e+00, -1.8155e+00,  9.1804e+00],\n",
       "        [ 7.3964e+00,  4.6472e-03,  5.7600e+00, -1.2813e+01,  2.0993e+00,\n",
       "          1.3817e+00,  9.5044e-01,  1.3692e+01, -8.1520e+00,  3.0693e+00],\n",
       "        [ 5.3594e-01,  7.1823e+00,  8.6316e+00,  5.5052e-01,  3.0847e+00,\n",
       "          6.5422e+00, -9.3926e-01,  1.4240e+01, -2.3681e+00,  7.2387e+00],\n",
       "        [ 5.7664e+00, -3.6984e-01,  6.5482e+00, -8.1673e+00, -3.4230e+00,\n",
       "          5.8703e+00,  6.4681e+00,  2.7618e-01,  1.4065e-01,  1.4539e+01],\n",
       "        [ 2.9608e-01,  1.0970e+01,  7.6643e+00,  9.1632e-01, -4.6400e+00,\n",
       "         -1.8644e+00, -9.1747e-01,  1.6092e+01,  8.1916e-01, -3.8306e-01],\n",
       "        [ 1.8061e+01,  4.5402e-01,  6.4469e+00, -9.1217e+00,  4.8142e+00,\n",
       "         -1.2434e+01, -4.8555e+00,  1.8762e+01, -5.0688e+00,  4.7100e+00],\n",
       "        [ 1.0160e+01,  3.6719e+00,  1.7606e+00, -3.7174e+00,  2.9199e+00,\n",
       "          5.0736e+00,  2.2376e+00,  1.3118e+00, -9.4740e+00, -3.8439e-01],\n",
       "        [ 1.9663e+01,  8.3116e-01,  1.5332e+01, -1.7205e+01,  5.3820e+00,\n",
       "          4.8909e+00,  5.5890e+00,  4.0557e+00, -1.0156e+01,  8.7478e+00],\n",
       "        [ 3.6341e+00,  6.0107e+00,  5.1116e+00, -9.1689e+00,  4.6583e+00,\n",
       "          1.5121e+01,  6.3176e+00,  5.8074e-01, -1.1697e+00,  2.3956e+00],\n",
       "        [ 1.2938e+00,  1.0327e+01,  4.1903e+00, -1.0794e+01, -5.6713e+00,\n",
       "          8.2268e+00, -8.4882e+00,  1.5725e+01,  1.4967e+00, -4.4904e-02],\n",
       "        [ 1.3247e+00,  3.1124e+00,  1.1535e+01, -6.4044e+00, -4.7170e+00,\n",
       "         -3.1171e-01,  2.6222e+00,  3.2587e+00,  3.5849e+00,  9.3129e+00],\n",
       "        [ 1.5260e+01,  1.2312e+01,  8.0512e+00, -9.3494e+00,  6.4750e+00,\n",
       "          1.1301e+01, -7.1352e+00,  5.8955e+00, -6.1659e+00,  1.7381e+00],\n",
       "        [ 6.2944e+00,  7.0777e+00,  7.2290e+00, -8.1802e+00,  4.0146e+00,\n",
       "          4.0262e+00,  4.3452e+00,  5.2918e+00, -5.1549e+00,  1.4077e+00],\n",
       "        [ 1.0057e+01,  6.7527e+00,  1.3890e+01, -4.9120e+00, -1.2081e+00,\n",
       "          9.4010e+00,  5.9458e+00,  8.4056e+00, -1.7087e+00,  1.5538e+01],\n",
       "        [ 1.3700e+01,  5.6961e+00,  1.4063e+01, -5.3899e+00,  2.6545e+00,\n",
       "          1.4031e+01, -6.4384e+00,  8.4296e+00, -6.8815e+00,  1.2044e+01],\n",
       "        [ 6.3056e+00,  2.9797e+00,  7.5056e+00, -4.3034e+00,  5.8889e+00,\n",
       "          1.0971e+01, -4.2561e+00,  1.0795e+01, -8.8887e+00, -2.3585e+00],\n",
       "        [ 7.7800e+00,  2.9923e+00,  4.8083e+00, -4.8485e+00, -4.7737e+00,\n",
       "         -2.2578e+00, -4.4010e+00,  1.0982e+01, -8.4476e+00,  9.2483e+00],\n",
       "        [ 1.5778e+01,  7.8008e+00,  7.3410e+00, -2.9857e+00,  1.9749e-02,\n",
       "         -2.5189e+00, -5.5498e+00,  7.2344e+00, -9.2004e+00,  1.0845e+01],\n",
       "        [ 1.6871e+01, -3.0941e+00,  1.1783e+01, -4.5174e+00,  4.9188e-01,\n",
       "          2.1133e+00,  1.3924e+01,  1.1812e+01, -9.0558e+00,  8.7488e+00],\n",
       "        [ 7.7167e+00,  8.2852e+00,  4.6181e+00,  2.3172e+00,  3.3329e+00,\n",
       "          5.7491e+00, -1.0431e+01,  4.4639e+00,  1.7980e+00,  2.3716e+00],\n",
       "        [ 2.0346e-01,  6.2460e+00,  5.8567e+00,  1.3984e+00,  7.9856e+00,\n",
       "         -2.8318e+00,  5.7032e-01,  7.1871e+00, -2.8364e+00,  5.2368e+00],\n",
       "        [ 6.9636e+00, -5.1409e-01,  1.1441e+01,  2.4945e+00, -6.9365e+00,\n",
       "          6.3083e-01, -3.7527e+00,  2.0466e+01, -8.5279e+00,  4.1425e+00],\n",
       "        [ 3.5105e+00,  3.5434e-01,  7.5969e+00, -5.6966e+00, -6.8400e+00,\n",
       "          1.4392e+01,  2.9605e+00,  8.7648e+00, -8.1244e+00,  1.2241e+01],\n",
       "        [ 1.4825e+01, -3.8556e+00,  6.5240e+00, -3.7542e+00, -3.8833e+00,\n",
       "          5.1864e+00, -1.0241e+00,  1.2915e+01, -1.1451e+01,  1.7464e+00],\n",
       "        [ 4.0143e-01,  7.4717e-01, -1.5082e+00, -1.8224e+01,  3.6129e+00,\n",
       "          4.8115e+00, -1.3350e+00,  8.1510e+00, -8.8018e+00,  8.8893e+00]])"
      ]
     },
     "execution_count": 47,
     "metadata": {},
     "output_type": "execute_result"
    }
   ],
   "source": [
    "output"
   ]
  },
  {
   "cell_type": "code",
   "execution_count": 34,
   "id": "2ab8d8f9",
   "metadata": {},
   "outputs": [],
   "source": [
    "m=output"
   ]
  },
  {
   "cell_type": "code",
   "execution_count": 53,
   "id": "ed3a6df6",
   "metadata": {},
   "outputs": [
    {
     "data": {
      "text/plain": [
       "tensor(1.0000)"
      ]
     },
     "execution_count": 53,
     "metadata": {},
     "output_type": "execute_result"
    }
   ],
   "source": [
    "torch.sum(torch.exp(output[1])/torch.sum(torch.exp(output[1])))"
   ]
  },
  {
   "cell_type": "code",
   "execution_count": 54,
   "id": "850b7e54",
   "metadata": {},
   "outputs": [
    {
     "data": {
      "text/plain": [
       "tensor([[2.3504e+03, 2.8159e+01, 1.4492e+04, 1.4652e-03, 1.2397e+02, 3.9603e+01,\n",
       "         1.8836e+01, 1.0917e+05, 5.3163e-04, 4.1455e+01],\n",
       "        [6.8031e+08, 2.9538e+03, 1.0268e+05, 2.7845e-05, 1.9886e+01, 2.1573e+04,\n",
       "         2.1694e+02, 1.6096e-01, 3.9995e-05, 1.7049e+01],\n",
       "        [2.8342e+07, 8.0478e+02, 4.0994e+06, 6.2008e-06, 2.6652e+00, 3.8441e+04,\n",
       "         1.2888e-02, 8.7686e+02, 1.1716e-02, 2.3599e+01],\n",
       "        [1.3602e+04, 1.9014e+03, 2.0847e+06, 1.0404e-03, 6.6954e-01, 1.4114e+04,\n",
       "         8.6726e-06, 1.1834e+03, 4.0285e-04, 1.5576e+01],\n",
       "        [5.5455e+01, 1.7406e+02, 6.4828e+02, 3.9787e-02, 2.8049e-01, 2.9029e+04,\n",
       "         5.3925e+00, 2.6007e+02, 5.7665e-01, 3.3276e+02],\n",
       "        [4.9213e+01, 1.3708e+01, 1.2865e+03, 2.2573e-01, 7.1933e-03, 1.4483e+00,\n",
       "         9.5901e+01, 2.7310e+04, 4.3983e-04, 3.3076e+00],\n",
       "        [4.4142e+04, 1.4466e+03, 3.1849e+07, 7.6551e-05, 2.9144e+02, 3.1427e+07,\n",
       "         1.6966e-03, 3.8615e+07, 1.8905e-05, 1.2021e+05],\n",
       "        [8.0891e+00, 1.9883e+03, 1.4668e+01, 9.5899e-07, 2.3967e-03, 1.3657e+03,\n",
       "         5.0458e-04, 2.8950e+05, 2.3814e-02, 1.9673e+02],\n",
       "        [2.1569e+03, 4.6914e-01, 1.1688e+03, 7.5504e-03, 1.1790e-04, 1.9844e+06,\n",
       "         6.1907e-01, 1.5962e+05, 5.6636e+01, 1.1903e+03],\n",
       "        [3.3700e+00, 1.1875e+01, 8.3790e+02, 7.7117e+02, 4.6487e-03, 2.6264e+00,\n",
       "         3.0074e+02, 2.7651e+04, 4.2361e-03, 1.6908e+03],\n",
       "        [4.6736e+00, 4.5990e+07, 2.0267e+01, 6.0215e-02, 2.9904e+01, 3.2378e+06,\n",
       "         1.3063e-02, 1.1805e+03, 1.5730e-03, 3.4606e-01],\n",
       "        [5.7385e+01, 6.0718e+01, 1.3197e+00, 2.9253e-06, 1.7179e+02, 5.9074e-01,\n",
       "         5.1261e+02, 1.3177e+04, 2.4988e+02, 1.3042e-02],\n",
       "        [4.5647e+03, 1.7089e+00, 5.6959e+02, 2.1684e+03, 1.5103e-02, 1.6970e+02,\n",
       "         2.6010e-02, 2.1508e+05, 1.2503e+01, 4.3242e+04],\n",
       "        [3.2154e+04, 1.3919e+04, 1.4844e+06, 9.4901e-06, 5.4902e+01, 2.9878e+01,\n",
       "         7.3366e-04, 8.4832e+06, 3.7753e-02, 7.1459e+00],\n",
       "        [6.8771e+03, 1.6785e+02, 1.3300e+03, 9.1490e-04, 2.9998e+00, 2.6951e-02,\n",
       "         9.8633e-02, 1.6304e+03, 1.7403e-04, 1.0279e+01],\n",
       "        [2.1005e+01, 2.0518e+03, 4.5830e+00, 4.4329e-03, 5.9358e-01, 1.7754e+04,\n",
       "         6.0174e-01, 7.3531e+05, 1.0598e-02, 2.0969e+03],\n",
       "        [6.8812e+00, 7.7950e+02, 1.4800e-01, 7.2297e-03, 3.2446e+02, 2.3469e+03,\n",
       "         1.0236e-01, 9.7911e+04, 2.4568e-02, 2.2321e+02],\n",
       "        [1.0494e-01, 2.9353e+00, 9.8166e-03, 4.9424e-02, 5.7924e+01, 6.7559e+00,\n",
       "         2.7275e-04, 2.6576e+01, 5.3923e-03, 1.3301e+02],\n",
       "        [6.0841e+03, 5.0933e+01, 3.2232e+04, 3.2039e-03, 2.2891e+01, 2.6438e+06,\n",
       "         3.3408e+05, 1.8509e+03, 1.3303e+00, 2.0051e+01],\n",
       "        [4.6018e+05, 2.0295e+02, 8.4448e+03, 8.9023e-01, 1.6090e+03, 2.7365e+06,\n",
       "         1.8641e+01, 2.3072e+02, 2.2224e-03, 5.4119e+04],\n",
       "        [3.4013e-02, 3.3332e+04, 3.2799e-01, 1.2069e+02, 1.3321e+00, 2.2463e+06,\n",
       "         6.4497e+01, 3.6083e+00, 1.7962e-03, 3.7506e+00],\n",
       "        [2.1627e+06, 4.4439e+05, 1.0372e+06, 2.2790e-05, 1.4576e+00, 9.7972e+00,\n",
       "         7.1191e-02, 3.7927e+05, 1.5881e-02, 5.1983e+03],\n",
       "        [2.4309e+00, 2.7507e+05, 4.9982e+03, 1.2091e+03, 1.3216e+00, 1.0842e+02,\n",
       "         1.0041e-01, 1.6358e+05, 3.6969e-04, 2.8844e-01],\n",
       "        [2.3141e+04, 4.8900e-01, 1.1112e+04, 3.5821e-04, 3.2946e-01, 9.6821e+05,\n",
       "         1.1070e-02, 9.7051e+02, 2.8744e-03, 1.4818e+03],\n",
       "        [4.5290e+03, 7.0310e-01, 1.5687e+02, 1.5657e-05, 1.0959e+01, 2.0052e+04,\n",
       "         1.0508e+01, 6.1451e+02, 1.8391e-02, 4.1806e+03],\n",
       "        [9.0337e+02, 9.4426e-02, 2.3396e-01, 5.5470e-03, 2.5543e+04, 1.3174e+02,\n",
       "         2.5447e-01, 1.1076e+06, 2.3719e-02, 2.7167e+03],\n",
       "        [6.2694e+06, 7.1822e-03, 6.6700e+05, 3.2595e-08, 5.5430e-03, 3.0259e+00,\n",
       "         3.0179e-03, 3.6672e+05, 1.3512e-01, 1.4574e+05],\n",
       "        [3.1495e+03, 9.4557e+02, 3.0718e+05, 3.0919e-03, 6.8821e-01, 2.1426e+03,\n",
       "         1.8155e-03, 2.6317e+07, 2.7661e-01, 6.9800e+00],\n",
       "        [2.9455e+03, 5.7331e+01, 1.4203e+01, 5.8025e-08, 3.0020e+01, 6.5109e+02,\n",
       "         5.2019e+01, 4.2200e+02, 2.8699e-04, 7.8666e+01],\n",
       "        [2.1035e+03, 2.0774e+02, 2.5724e+02, 1.2169e-02, 6.0402e+00, 9.0587e+01,\n",
       "         1.7248e+00, 1.1758e+05, 7.3579e-01, 3.0720e+05],\n",
       "        [2.4680e+00, 3.9844e+04, 2.1681e+03, 9.3665e-05, 4.9457e+01, 1.8414e+03,\n",
       "         9.4597e+01, 1.1822e+03, 6.9169e+00, 2.4109e+01],\n",
       "        [1.0560e+02, 2.7021e-02, 6.2808e+03, 5.9693e-02, 1.0158e+03, 2.0426e+03,\n",
       "         5.7200e-02, 7.0878e+07, 3.0932e-03, 7.1094e+03],\n",
       "        [1.0159e+04, 3.6291e-01, 2.9954e+04, 3.0869e-06, 1.4645e-01, 2.8521e+00,\n",
       "         2.2583e-01, 4.7369e+03, 4.0808e-01, 5.9505e-02],\n",
       "        [8.2103e+01, 2.2723e+02, 2.3785e+03, 7.5303e-01, 1.1769e-02, 1.1629e+06,\n",
       "         6.9630e-04, 4.5547e+07, 2.0134e-04, 5.8834e+01],\n",
       "        [2.9672e+05, 1.7692e+00, 2.1455e+03, 1.1937e-05, 8.5503e+03, 1.0028e+03,\n",
       "         8.0577e-05, 3.3685e+04, 2.2914e-04, 3.6405e+04],\n",
       "        [1.4204e+00, 3.2726e-01, 7.6829e+06, 1.6489e-05, 1.2006e+00, 1.8016e+03,\n",
       "         9.1344e-03, 6.1723e+03, 1.7159e-02, 2.0685e+05],\n",
       "        [1.1919e+02, 7.9745e+04, 6.5098e+03, 1.2854e-06, 2.7316e-01, 7.1763e+02,\n",
       "         3.7331e-02, 2.3284e+03, 4.6036e-04, 1.1855e+00],\n",
       "        [3.3357e+02, 3.6966e+01, 1.7754e+00, 7.3283e+00, 6.4542e+04, 2.5830e+04,\n",
       "         1.7361e+01, 2.3136e+03, 1.1245e-03, 1.2089e+04],\n",
       "        [2.9307e+02, 1.5670e+03, 1.8653e+00, 1.7094e-02, 1.3390e+03, 2.0923e+03,\n",
       "         3.3556e+01, 4.8256e+01, 1.8039e-04, 3.5781e+03],\n",
       "        [2.2412e+03, 6.4573e+00, 9.2612e+01, 1.3745e+00, 9.1494e-04, 6.9682e+00,\n",
       "         1.5913e-01, 6.7944e+03, 1.6276e-01, 9.7050e+03],\n",
       "        [1.6302e+03, 1.0047e+00, 3.1733e+02, 2.7262e-06, 8.1607e+00, 3.9818e+00,\n",
       "         2.5869e+00, 8.8358e+05, 2.8815e-04, 2.1528e+01],\n",
       "        [1.7091e+00, 1.3159e+03, 5.6058e+03, 1.7342e+00, 2.1860e+01, 6.9382e+02,\n",
       "         3.9092e-01, 1.5291e+06, 9.3661e-02, 1.3923e+03],\n",
       "        [3.1940e+02, 6.9085e-01, 6.9800e+02, 2.8377e-04, 3.2613e-02, 3.5434e+02,\n",
       "         6.4426e+02, 1.3181e+00, 1.1510e+00, 2.0610e+06],\n",
       "        [1.3446e+00, 5.8107e+04, 2.1309e+03, 2.5001e+00, 9.6572e-03, 1.5499e-01,\n",
       "         3.9953e-01, 9.7393e+06, 2.2686e+00, 6.8177e-01],\n",
       "        [6.9778e+07, 1.5746e+00, 6.3072e+02, 1.0927e-04, 1.2325e+02, 3.9795e-06,\n",
       "         7.7853e-03, 1.4067e+08, 6.2900e-03, 1.1105e+02],\n",
       "        [2.5841e+04, 3.9328e+01, 5.8160e+00, 2.4298e-02, 1.8539e+01, 1.5975e+02,\n",
       "         9.3708e+00, 3.7127e+00, 7.6826e-05, 6.8086e-01],\n",
       "        [3.4633e+08, 2.2960e+00, 4.5550e+06, 3.3739e-08, 2.1746e+02, 1.3307e+02,\n",
       "         2.6747e+02, 5.7727e+01, 3.8844e-05, 6.2971e+03],\n",
       "        [3.7868e+01, 4.0775e+02, 1.6594e+02, 1.0423e-04, 1.0546e+02, 3.6892e+06,\n",
       "         5.5426e+02, 1.7874e+00, 3.1047e-01, 1.0975e+01],\n",
       "        [3.6465e+00, 3.0551e+04, 6.6044e+01, 2.0528e-05, 3.4435e-03, 3.7397e+03,\n",
       "         2.0588e-04, 6.7518e+06, 4.4671e+00, 9.5609e-01],\n",
       "        [3.7610e+00, 2.2475e+01, 1.0219e+05, 1.6542e-03, 8.9418e-03, 7.3220e-01,\n",
       "         1.3767e+01, 2.6017e+01, 3.6051e+01, 1.1080e+04],\n",
       "        [4.2393e+06, 2.2235e+05, 3.1376e+03, 8.7018e-05, 6.4873e+02, 8.0874e+04,\n",
       "         7.9657e-04, 3.6339e+02, 2.0998e-03, 5.6867e+00],\n",
       "        [5.4151e+02, 1.1853e+03, 1.3788e+03, 2.8016e-04, 5.5398e+01, 5.6045e+01,\n",
       "         7.7109e+01, 1.9871e+02, 5.7709e-03, 4.0864e+00],\n",
       "        [2.3324e+04, 8.5638e+02, 1.0775e+06, 7.3577e-03, 2.9878e-01, 1.2101e+04,\n",
       "         3.8214e+02, 4.4722e+03, 1.8109e-01, 5.5965e+06],\n",
       "        [8.9126e+05, 2.9771e+02, 1.2813e+06, 4.5625e-03, 1.4218e+01, 1.2409e+06,\n",
       "         1.5989e-03, 4.5804e+03, 1.0266e-03, 1.7002e+05],\n",
       "        [5.4763e+02, 1.9683e+01, 1.8181e+03, 1.3523e-02, 3.6101e+02, 5.8149e+04,\n",
       "         1.4178e-02, 4.8757e+04, 1.3794e-04, 9.4558e-02],\n",
       "        [2.3924e+03, 1.9932e+01, 1.2252e+02, 7.8404e-03, 8.4494e-03, 1.0458e-01,\n",
       "         1.2265e-02, 5.8803e+04, 2.1442e-04, 1.0387e+04],\n",
       "        [7.1154e+06, 2.4426e+03, 1.5422e+03, 5.0503e-02, 1.0199e+00, 8.0552e-02,\n",
       "         3.8882e-03, 1.3863e+03, 1.0099e-04, 5.1280e+04],\n",
       "        [2.1225e+07, 4.5318e-02, 1.3097e+05, 1.0917e-02, 1.6354e+00, 8.2757e+00,\n",
       "         1.1148e+06, 1.3488e+05, 1.1671e-04, 6.3028e+03],\n",
       "        [2.2455e+03, 3.9649e+03, 1.0130e+02, 1.0147e+01, 2.8020e+01, 3.1392e+02,\n",
       "         2.9499e-05, 8.6829e+01, 6.0376e+00, 1.0715e+01],\n",
       "        [1.2256e+00, 5.1596e+02, 3.4958e+02, 4.0489e+00, 2.9383e+03, 5.8907e-02,\n",
       "         1.7688e+00, 1.3223e+03, 5.8634e-02, 1.8806e+02],\n",
       "        [1.0575e+03, 5.9805e-01, 9.3094e+04, 1.2116e+01, 9.7170e-04, 1.8792e+00,\n",
       "         2.3455e-02, 7.7355e+08, 1.9786e-04, 6.2958e+01],\n",
       "        [3.3464e+01, 1.4252e+00, 1.9920e+03, 3.3573e-03, 1.0702e-03, 1.7792e+06,\n",
       "         1.9307e+01, 6.4048e+03, 2.9621e-04, 2.0718e+05],\n",
       "        [2.7436e+06, 2.1161e-02, 6.8133e+02, 2.3418e-02, 2.0583e-02, 1.7883e+02,\n",
       "         3.5912e-01, 4.0632e+05, 1.0637e-05, 5.7337e+00],\n",
       "        [1.4940e+00, 2.1110e+00, 2.2131e-01, 1.2174e-08, 3.7074e+01, 1.2291e+02,\n",
       "         2.6315e-01, 3.4667e+03, 1.5046e-04, 7.2541e+03]])"
      ]
     },
     "execution_count": 54,
     "metadata": {},
     "output_type": "execute_result"
    }
   ],
   "source": [
    "torch.exp(output)"
   ]
  },
  {
   "cell_type": "code",
   "execution_count": 66,
   "id": "12f1a1ef",
   "metadata": {},
   "outputs": [],
   "source": [
    "def softmax(output):\n",
    "    return torch.exp(output)/torch.sum(torch.exp(output),dim=1).view(-1,1)  # Important to understand (broadcasting)\n",
    "    "
   ]
  },
  {
   "cell_type": "code",
   "execution_count": 67,
   "id": "1918c583",
   "metadata": {},
   "outputs": [
    {
     "name": "stdout",
     "output_type": "stream",
     "text": [
      "torch.Size([64, 10])\n",
      "tensor([1.0000, 1.0000, 1.0000, 1.0000, 1.0000, 1.0000, 1.0000, 1.0000, 1.0000,\n",
      "        1.0000, 1.0000, 1.0000, 1.0000, 1.0000, 1.0000, 1.0000, 1.0000, 1.0000,\n",
      "        1.0000, 1.0000, 1.0000, 1.0000, 1.0000, 1.0000, 1.0000, 1.0000, 1.0000,\n",
      "        1.0000, 1.0000, 1.0000, 1.0000, 1.0000, 1.0000, 1.0000, 1.0000, 1.0000,\n",
      "        1.0000, 1.0000, 1.0000, 1.0000, 1.0000, 1.0000, 1.0000, 1.0000, 1.0000,\n",
      "        1.0000, 1.0000, 1.0000, 1.0000, 1.0000, 1.0000, 1.0000, 1.0000, 1.0000,\n",
      "        1.0000, 1.0000, 1.0000, 1.0000, 1.0000, 1.0000, 1.0000, 1.0000, 1.0000,\n",
      "        1.0000])\n"
     ]
    }
   ],
   "source": [
    "prob=softmax(output)\n",
    "print(prob.shape)\n",
    "print(torch.sum(prob,dim=1))"
   ]
  },
  {
   "cell_type": "code",
   "execution_count": 10,
   "id": "b9451562",
   "metadata": {},
   "outputs": [],
   "source": [
    "from torch import nn"
   ]
  },
  {
   "cell_type": "code",
   "execution_count": 69,
   "id": "78aa6324",
   "metadata": {},
   "outputs": [],
   "source": [
    "class Network(nn.Module):\n",
    "    \n",
    "    def __init__(self):\n",
    "        \n",
    "        super().__init__()\n",
    "        \n",
    "        \n",
    "        self.hidden=nn.Linear(784,256)\n",
    "        self.output=nn.Linear(256,10)\n",
    "        \n",
    "        self.sigmoid=nn.Sigmoid()\n",
    "        self.softmax=nn.Softmax(dim=1)\n",
    "        \n",
    "    def forward(self,x):\n",
    "        \n",
    "        x=self.hidden(x)\n",
    "        x=self.sigmoid(x)\n",
    "        x=self.output(x)\n",
    "        x=self.softmax(x)\n",
    "        \n",
    "        return x"
   ]
  },
  {
   "cell_type": "code",
   "execution_count": 70,
   "id": "ea6e9d63",
   "metadata": {},
   "outputs": [
    {
     "data": {
      "text/plain": [
       "Network(\n",
       "  (hidden): Linear(in_features=784, out_features=256, bias=True)\n",
       "  (output): Linear(in_features=256, out_features=10, bias=True)\n",
       "  (sigmoid): Sigmoid()\n",
       "  (softmax): Softmax(dim=1)\n",
       ")"
      ]
     },
     "execution_count": 70,
     "metadata": {},
     "output_type": "execute_result"
    }
   ],
   "source": [
    "model=Network()\n",
    "model"
   ]
  },
  {
   "cell_type": "code",
   "execution_count": 71,
   "id": "92eed2aa",
   "metadata": {},
   "outputs": [],
   "source": [
    "class Network(nn.Module):\n",
    "    \n",
    "    def __init__(self):\n",
    "        \n",
    "        super().__init__()\n",
    "        \n",
    "        \n",
    "        self.hid1=nn.Linear(784,128)\n",
    "        self.hid2=nn.Linear(128,64)\n",
    "        self.output=nn.Linear(64,10)\n",
    "        \n",
    "        self.Relu=nn.ReLU()\n",
    "        self.softmax=nn.Softmax(dim=1)\n",
    "        \n",
    "    def forward(self,x):\n",
    "        \n",
    "        x=self.hid1(x)\n",
    "        x=self.Relu(x)\n",
    "        x=self.hid2(x)\n",
    "        x=self.Relu(x)\n",
    "        x=self.softmax(x)\n",
    "        \n",
    "        return x"
   ]
  },
  {
   "cell_type": "code",
   "execution_count": 72,
   "id": "22d43a59",
   "metadata": {},
   "outputs": [
    {
     "data": {
      "text/plain": [
       "Network(\n",
       "  (hid1): Linear(in_features=784, out_features=128, bias=True)\n",
       "  (hid2): Linear(in_features=128, out_features=64, bias=True)\n",
       "  (output): Linear(in_features=64, out_features=10, bias=True)\n",
       "  (Relu): ReLU()\n",
       "  (softmax): Softmax(dim=1)\n",
       ")"
      ]
     },
     "execution_count": 72,
     "metadata": {},
     "output_type": "execute_result"
    }
   ],
   "source": [
    "model=Network()\n",
    "model"
   ]
  },
  {
   "cell_type": "code",
   "execution_count": 81,
   "id": "6158d214",
   "metadata": {},
   "outputs": [],
   "source": [
    "import torch.nn.functional as F\n",
    "from torchvision import datasets,transforms\n",
    "\n",
    "transform=transforms.Compose([transforms.ToTensor(),transforms.Normalize((0.5,), (0.5,))])"
   ]
  },
  {
   "cell_type": "code",
   "execution_count": 82,
   "id": "28d8d85d",
   "metadata": {},
   "outputs": [],
   "source": [
    "trainset = datasets.MNIST('~/.pytorch/MNIST_data/', download=True, train=True, transform=transform)\n",
    "trainloader = torch.utils.data.DataLoader(trainset, batch_size=64, shuffle=True)"
   ]
  },
  {
   "cell_type": "code",
   "execution_count": 83,
   "id": "670a2715",
   "metadata": {},
   "outputs": [
    {
     "name": "stdout",
     "output_type": "stream",
     "text": [
      "tensor(2.3137, grad_fn=<NllLossBackward>)\n"
     ]
    }
   ],
   "source": [
    "model=nn.Sequential(nn.Linear(784,128),\n",
    "                    nn.ReLU(),\n",
    "                    nn.Linear(128,64),\n",
    "                    nn.ReLU(),\n",
    "                    nn.Linear(64,10),\n",
    "                    nn.LogSoftmax(dim=1))\n",
    "\n",
    "criterion=nn.NLLLoss()\n",
    "\n",
    "images,labels= next(iter(trainloader))\n",
    "\n",
    "images=images.view(images.shape[0],-1)\n",
    "\n",
    "logits=model(images)\n",
    "\n",
    "loss=criterion(logits,labels)\n",
    "\n",
    "print(loss)"
   ]
  },
  {
   "cell_type": "markdown",
   "id": "b34e6c9b",
   "metadata": {},
   "source": [
    "## AUTOGRAD"
   ]
  },
  {
   "cell_type": "code",
   "execution_count": 85,
   "id": "33007aba",
   "metadata": {},
   "outputs": [
    {
     "name": "stdout",
     "output_type": "stream",
     "text": [
      "tensor([[ 0.0856, -0.1283],\n",
      "        [ 0.0835,  1.0771]], requires_grad=True)\n"
     ]
    }
   ],
   "source": [
    "x=torch.randn(2,2,requires_grad=True)\n",
    "print(x)"
   ]
  },
  {
   "cell_type": "code",
   "execution_count": 86,
   "id": "ded5ee47",
   "metadata": {},
   "outputs": [
    {
     "data": {
      "text/plain": [
       "tensor([[0.0073, 0.0165],\n",
       "        [0.0070, 1.1600]], grad_fn=<PowBackward0>)"
      ]
     },
     "execution_count": 86,
     "metadata": {},
     "output_type": "execute_result"
    }
   ],
   "source": [
    "y=x**2\n",
    "y"
   ]
  },
  {
   "cell_type": "code",
   "execution_count": 87,
   "id": "59352f43",
   "metadata": {},
   "outputs": [
    {
     "name": "stdout",
     "output_type": "stream",
     "text": [
      "<PowBackward0 object at 0x0000024FBE601CA0>\n"
     ]
    }
   ],
   "source": [
    "print(y.grad_fn)"
   ]
  },
  {
   "cell_type": "code",
   "execution_count": 91,
   "id": "03249a51",
   "metadata": {},
   "outputs": [
    {
     "data": {
      "text/plain": [
       "tensor(0.2977, grad_fn=<MeanBackward0>)"
      ]
     },
     "execution_count": 91,
     "metadata": {},
     "output_type": "execute_result"
    }
   ],
   "source": [
    "z=y.mean()\n",
    "z"
   ]
  },
  {
   "cell_type": "code",
   "execution_count": 90,
   "id": "42759042",
   "metadata": {},
   "outputs": [
    {
     "name": "stdout",
     "output_type": "stream",
     "text": [
      "<MeanBackward0 object at 0x0000024FBE601400>\n"
     ]
    }
   ],
   "source": [
    "print(z.grad_fn)"
   ]
  },
  {
   "cell_type": "code",
   "execution_count": 92,
   "id": "f9f68bd8",
   "metadata": {},
   "outputs": [
    {
     "name": "stdout",
     "output_type": "stream",
     "text": [
      "None\n"
     ]
    }
   ],
   "source": [
    "print(x.grad)"
   ]
  },
  {
   "cell_type": "code",
   "execution_count": 93,
   "id": "3b67d6ea",
   "metadata": {},
   "outputs": [],
   "source": [
    "z.backward()"
   ]
  },
  {
   "cell_type": "code",
   "execution_count": 94,
   "id": "2287d804",
   "metadata": {},
   "outputs": [
    {
     "name": "stdout",
     "output_type": "stream",
     "text": [
      "tensor([[ 0.0428, -0.0642],\n",
      "        [ 0.0418,  0.5385]])\n"
     ]
    }
   ],
   "source": [
    "print(x.grad)"
   ]
  },
  {
   "cell_type": "code",
   "execution_count": 95,
   "id": "58e4b140",
   "metadata": {},
   "outputs": [],
   "source": [
    "model=nn.Sequential(nn.Linear(784,128),\n",
    "                    nn.ReLU(),\n",
    "                    nn.Linear(128,64),\n",
    "                    nn.ReLU(),\n",
    "                    nn.Linear(64,10),\n",
    "                    nn.LogSoftmax(dim=1))\n",
    "\n",
    "criterion=nn.NLLLoss()\n",
    "\n",
    "images,labels= next(iter(trainloader))\n",
    "\n",
    "images=images.view(images.shape[0],-1)\n",
    "\n",
    "logps=model(images)\n",
    "\n",
    "loss=criterion(logps,labels)"
   ]
  },
  {
   "cell_type": "code",
   "execution_count": 96,
   "id": "c471dc0d",
   "metadata": {},
   "outputs": [
    {
     "data": {
      "text/plain": [
       "Sequential(\n",
       "  (0): Linear(in_features=784, out_features=128, bias=True)\n",
       "  (1): ReLU()\n",
       "  (2): Linear(in_features=128, out_features=64, bias=True)\n",
       "  (3): ReLU()\n",
       "  (4): Linear(in_features=64, out_features=10, bias=True)\n",
       "  (5): LogSoftmax(dim=1)\n",
       ")"
      ]
     },
     "execution_count": 96,
     "metadata": {},
     "output_type": "execute_result"
    }
   ],
   "source": [
    "model\n"
   ]
  },
  {
   "cell_type": "code",
   "execution_count": 99,
   "id": "4e0cb593",
   "metadata": {},
   "outputs": [
    {
     "data": {
      "text/plain": [
       "torch.Size([128, 784])"
      ]
     },
     "execution_count": 99,
     "metadata": {},
     "output_type": "execute_result"
    }
   ],
   "source": [
    "model[0].weight.shape"
   ]
  },
  {
   "cell_type": "code",
   "execution_count": 100,
   "id": "1304cbc6",
   "metadata": {},
   "outputs": [],
   "source": [
    "loss.backward()"
   ]
  },
  {
   "cell_type": "code",
   "execution_count": 101,
   "id": "f6b36065",
   "metadata": {},
   "outputs": [
    {
     "name": "stdout",
     "output_type": "stream",
     "text": [
      "tensor([[-0.0019, -0.0019, -0.0019,  ..., -0.0019, -0.0019, -0.0019],\n",
      "        [ 0.0019,  0.0019,  0.0019,  ...,  0.0019,  0.0019,  0.0019],\n",
      "        [ 0.0011,  0.0011,  0.0011,  ...,  0.0011,  0.0011,  0.0011],\n",
      "        ...,\n",
      "        [-0.0002, -0.0002, -0.0002,  ..., -0.0002, -0.0002, -0.0002],\n",
      "        [ 0.0000,  0.0000,  0.0000,  ...,  0.0000,  0.0000,  0.0000],\n",
      "        [ 0.0004,  0.0004,  0.0004,  ...,  0.0004,  0.0004,  0.0004]])\n"
     ]
    }
   ],
   "source": [
    "print(model[0].weight.grad)"
   ]
  },
  {
   "cell_type": "code",
   "execution_count": 102,
   "id": "5c53edda",
   "metadata": {},
   "outputs": [
    {
     "name": "stdout",
     "output_type": "stream",
     "text": [
      "torch.Size([128, 784])\n"
     ]
    }
   ],
   "source": [
    "print(model[0].weight.grad.shape)"
   ]
  },
  {
   "cell_type": "code",
   "execution_count": 103,
   "id": "5c4a05e3",
   "metadata": {},
   "outputs": [],
   "source": [
    "from torch import optim"
   ]
  },
  {
   "cell_type": "code",
   "execution_count": 104,
   "id": "15cc7a1b",
   "metadata": {},
   "outputs": [],
   "source": [
    "optimizer=optim.SGD(model.parameters(),lr=0.01)"
   ]
  },
  {
   "cell_type": "code",
   "execution_count": 106,
   "id": "6783c1dd",
   "metadata": {},
   "outputs": [],
   "source": [
    "optimizer.step()"
   ]
  },
  {
   "cell_type": "code",
   "execution_count": 108,
   "id": "720a1f85",
   "metadata": {},
   "outputs": [
    {
     "data": {
      "text/plain": [
       "Parameter containing:\n",
       "tensor([[-0.0065, -0.0185, -0.0166,  ...,  0.0171, -0.0085,  0.0246],\n",
       "        [ 0.0154,  0.0256, -0.0127,  ..., -0.0021,  0.0077, -0.0210],\n",
       "        [ 0.0034,  0.0268,  0.0094,  ...,  0.0180, -0.0124, -0.0263],\n",
       "        ...,\n",
       "        [-0.0003,  0.0157, -0.0263,  ..., -0.0240, -0.0153,  0.0241],\n",
       "        [-0.0156,  0.0049, -0.0188,  ...,  0.0114,  0.0170,  0.0281],\n",
       "        [ 0.0242,  0.0011, -0.0210,  ...,  0.0072,  0.0353, -0.0247]],\n",
       "       requires_grad=True)"
      ]
     },
     "execution_count": 108,
     "metadata": {},
     "output_type": "execute_result"
    }
   ],
   "source": [
    "model[0].weight"
   ]
  },
  {
   "cell_type": "code",
   "execution_count": 112,
   "id": "7bebea0d",
   "metadata": {},
   "outputs": [],
   "source": [
    "optimizer.zero_grad()\n",
    "images=images.view(images.shape[0],-1)\n",
    "\n",
    "logps=model.forward(images)\n",
    "\n",
    "loss=criterion(logps,labels)"
   ]
  },
  {
   "cell_type": "code",
   "execution_count": 113,
   "id": "39df98ad",
   "metadata": {},
   "outputs": [],
   "source": [
    "loss.backward()\n",
    "optimizer.step()"
   ]
  },
  {
   "cell_type": "code",
   "execution_count": 114,
   "id": "5b591a9e",
   "metadata": {},
   "outputs": [
    {
     "data": {
      "text/plain": [
       "Parameter containing:\n",
       "tensor([[-0.0065, -0.0185, -0.0166,  ...,  0.0171, -0.0085,  0.0247],\n",
       "        [ 0.0153,  0.0255, -0.0127,  ..., -0.0021,  0.0077, -0.0210],\n",
       "        [ 0.0034,  0.0267,  0.0094,  ...,  0.0180, -0.0124, -0.0263],\n",
       "        ...,\n",
       "        [-0.0003,  0.0157, -0.0263,  ..., -0.0239, -0.0153,  0.0241],\n",
       "        [-0.0156,  0.0049, -0.0188,  ...,  0.0114,  0.0170,  0.0281],\n",
       "        [ 0.0242,  0.0011, -0.0210,  ...,  0.0072,  0.0353, -0.0247]],\n",
       "       requires_grad=True)"
      ]
     },
     "execution_count": 114,
     "metadata": {},
     "output_type": "execute_result"
    }
   ],
   "source": [
    "model[0].weight"
   ]
  },
  {
   "cell_type": "code",
   "execution_count": 132,
   "id": "e01cc335",
   "metadata": {},
   "outputs": [],
   "source": [
    "model=nn.Sequential(nn.Linear(784,128),\n",
    "                    nn.ReLU(),\n",
    "                    nn.Linear(128,64),\n",
    "                    nn.ReLU(),\n",
    "                    nn.Linear(64,10),\n",
    "                    nn.LogSoftmax(dim=1))\n",
    "\n",
    "criterion=nn.NLLLoss()\n",
    "\n",
    "images,labels= next(iter(trainloader))\n",
    "\n",
    "images=images.view(images.shape[0],-1)\n",
    "\n"
   ]
  },
  {
   "cell_type": "code",
   "execution_count": 133,
   "id": "9a5b1b2d",
   "metadata": {},
   "outputs": [
    {
     "data": {
      "text/plain": [
       "tensor(2.3057, grad_fn=<NllLossBackward>)"
      ]
     },
     "execution_count": 133,
     "metadata": {},
     "output_type": "execute_result"
    }
   ],
   "source": [
    "loss"
   ]
  },
  {
   "cell_type": "code",
   "execution_count": 136,
   "id": "bc30d23b",
   "metadata": {},
   "outputs": [
    {
     "name": "stdout",
     "output_type": "stream",
     "text": [
      "Initial weights -  Parameter containing:\n",
      "tensor([[-0.0133, -0.0038,  0.0311,  ...,  0.0177,  0.0043, -0.0326],\n",
      "        [ 0.0280, -0.0051, -0.0006,  ...,  0.0168, -0.0141,  0.0040],\n",
      "        [-0.0126,  0.0007,  0.0285,  ..., -0.0213, -0.0194, -0.0266],\n",
      "        ...,\n",
      "        [ 0.0327, -0.0217,  0.0242,  ..., -0.0206,  0.0218, -0.0302],\n",
      "        [-0.0326, -0.0322, -0.0048,  ..., -0.0083,  0.0273,  0.0327],\n",
      "        [ 0.0122,  0.0259, -0.0328,  ...,  0.0108,  0.0308, -0.0039]],\n",
      "       requires_grad=True)\n",
      "Gradient - tensor([[ 5.2810e-04,  5.2810e-04,  5.2810e-04,  ...,  5.2810e-04,\n",
      "          5.2810e-04,  5.2810e-04],\n",
      "        [ 5.5118e-05,  5.5118e-05,  5.5118e-05,  ...,  5.5118e-05,\n",
      "          5.5118e-05,  5.5118e-05],\n",
      "        [-3.0358e-03, -3.0358e-03, -3.0358e-03,  ..., -3.0358e-03,\n",
      "         -3.0358e-03, -3.0358e-03],\n",
      "        ...,\n",
      "        [-4.2634e-04, -4.2634e-04, -4.2634e-04,  ..., -4.2634e-04,\n",
      "         -4.2634e-04, -4.2634e-04],\n",
      "        [ 3.8263e-06,  3.8263e-06,  3.8263e-06,  ...,  3.8263e-06,\n",
      "          3.8263e-06,  3.8263e-06],\n",
      "        [-1.2409e-03, -1.2409e-03, -1.2409e-03,  ..., -1.2409e-03,\n",
      "         -1.2409e-03, -1.2409e-03]])\n"
     ]
    }
   ],
   "source": [
    "optimizer = optim.SGD(model.parameters(), lr=0.01)\n",
    "print('Initial weights - ', model[0].weight)\n",
    "\n",
    "images, labels = next(iter(trainloader))\n",
    "images.resize_(64, 784)\n",
    "\n",
    "# Clear the gradients, do this because gradients are accumulated\n",
    "optimizer.zero_grad()\n",
    "\n",
    "# Forward pass, then backward pass, then update weights\n",
    "output = model.forward(images)\n",
    "loss = criterion(output, labels)\n",
    "loss.backward()\n",
    "print('Gradient -', model[0].weight.grad)"
   ]
  },
  {
   "cell_type": "code",
   "execution_count": 137,
   "id": "d578eae8",
   "metadata": {},
   "outputs": [
    {
     "name": "stdout",
     "output_type": "stream",
     "text": [
      "Updated weights -  Parameter containing:\n",
      "tensor([[-0.0133, -0.0038,  0.0311,  ...,  0.0177,  0.0043, -0.0326],\n",
      "        [ 0.0280, -0.0051, -0.0006,  ...,  0.0168, -0.0141,  0.0040],\n",
      "        [-0.0126,  0.0007,  0.0285,  ..., -0.0213, -0.0194, -0.0266],\n",
      "        ...,\n",
      "        [ 0.0327, -0.0217,  0.0242,  ..., -0.0206,  0.0218, -0.0302],\n",
      "        [-0.0326, -0.0322, -0.0048,  ..., -0.0083,  0.0273,  0.0327],\n",
      "        [ 0.0122,  0.0259, -0.0328,  ...,  0.0108,  0.0308, -0.0039]],\n",
      "       requires_grad=True)\n"
     ]
    }
   ],
   "source": [
    "optimizer.step()\n",
    "print('Updated weights - ', model[0].weight)"
   ]
  },
  {
   "cell_type": "code",
   "execution_count": 138,
   "id": "ec2634e3",
   "metadata": {},
   "outputs": [],
   "source": [
    "model = nn.Sequential(nn.Linear(784, 128),\n",
    "                      nn.ReLU(),\n",
    "                      nn.Linear(128, 64),\n",
    "                      nn.ReLU(),\n",
    "                      nn.Linear(64, 10),\n",
    "                      nn.LogSoftmax(dim=1))\n",
    "\n",
    "criterion = nn.NLLLoss()\n",
    "images, labels = next(iter(trainloader))\n",
    "images = images.view(images.shape[0], -1)\n",
    "\n",
    "logits = model(images)\n",
    "loss = criterion(logits, labels)"
   ]
  },
  {
   "cell_type": "code",
   "execution_count": 128,
   "id": "44f78fb5",
   "metadata": {},
   "outputs": [
    {
     "name": "stdout",
     "output_type": "stream",
     "text": [
      "Before backward pass: \n",
      " None\n",
      "After backward pass: \n",
      " tensor([[ 0.0004,  0.0004,  0.0004,  ...,  0.0004,  0.0004,  0.0004],\n",
      "        [ 0.0007,  0.0007,  0.0007,  ...,  0.0007,  0.0007,  0.0007],\n",
      "        [ 0.0004,  0.0004,  0.0004,  ...,  0.0004,  0.0004,  0.0004],\n",
      "        ...,\n",
      "        [-0.0004, -0.0004, -0.0004,  ..., -0.0004, -0.0004, -0.0004],\n",
      "        [ 0.0000,  0.0000,  0.0000,  ...,  0.0000,  0.0000,  0.0000],\n",
      "        [ 0.0013,  0.0013,  0.0013,  ...,  0.0013,  0.0013,  0.0013]])\n"
     ]
    }
   ],
   "source": [
    "print('Before backward pass: \\n', model[0].weight.grad)\n",
    "\n",
    "loss.backward()\n",
    "\n",
    "print('After backward pass: \\n', model[0].weight.grad)"
   ]
  },
  {
   "cell_type": "code",
   "execution_count": 9,
   "id": "41439ecb",
   "metadata": {},
   "outputs": [
    {
     "ename": "NameError",
     "evalue": "name 'model' is not defined",
     "output_type": "error",
     "traceback": [
      "\u001b[1;31m---------------------------------------------------------------------------\u001b[0m",
      "\u001b[1;31mNameError\u001b[0m                                 Traceback (most recent call last)",
      "\u001b[1;32m<ipython-input-9-dc2fdd4135c1>\u001b[0m in \u001b[0;36m<module>\u001b[1;34m\u001b[0m\n\u001b[0;32m      2\u001b[0m \u001b[1;33m\u001b[0m\u001b[0m\n\u001b[0;32m      3\u001b[0m \u001b[1;31m# Optimizers require the parameters to optimize and a learning rate\u001b[0m\u001b[1;33m\u001b[0m\u001b[1;33m\u001b[0m\u001b[1;33m\u001b[0m\u001b[0m\n\u001b[1;32m----> 4\u001b[1;33m \u001b[0moptimizer\u001b[0m \u001b[1;33m=\u001b[0m \u001b[0moptim\u001b[0m\u001b[1;33m.\u001b[0m\u001b[0mSGD\u001b[0m\u001b[1;33m(\u001b[0m\u001b[0mmodel\u001b[0m\u001b[1;33m.\u001b[0m\u001b[0mparameters\u001b[0m\u001b[1;33m(\u001b[0m\u001b[1;33m)\u001b[0m\u001b[1;33m,\u001b[0m \u001b[0mlr\u001b[0m\u001b[1;33m=\u001b[0m\u001b[1;36m0.01\u001b[0m\u001b[1;33m)\u001b[0m\u001b[1;33m\u001b[0m\u001b[1;33m\u001b[0m\u001b[0m\n\u001b[0m",
      "\u001b[1;31mNameError\u001b[0m: name 'model' is not defined"
     ]
    }
   ],
   "source": [
    "from torch import optim\n",
    "\n",
    "# Optimizers require the parameters to optimize and a learning rate\n",
    "optimizer = optim.SGD(model.parameters(), lr=0.01)"
   ]
  },
  {
   "cell_type": "code",
   "execution_count": 130,
   "id": "0bba439a",
   "metadata": {},
   "outputs": [
    {
     "name": "stdout",
     "output_type": "stream",
     "text": [
      "Initial weights -  Parameter containing:\n",
      "tensor([[ 0.0303, -0.0244, -0.0023,  ...,  0.0008,  0.0349,  0.0341],\n",
      "        [-0.0084,  0.0197,  0.0331,  ..., -0.0102, -0.0208, -0.0183],\n",
      "        [ 0.0185, -0.0199,  0.0064,  ..., -0.0063, -0.0104, -0.0237],\n",
      "        ...,\n",
      "        [ 0.0048, -0.0214, -0.0080,  ...,  0.0345, -0.0297,  0.0005],\n",
      "        [-0.0049, -0.0287, -0.0023,  ...,  0.0301,  0.0098,  0.0202],\n",
      "        [ 0.0013,  0.0331,  0.0166,  ...,  0.0260,  0.0251, -0.0070]],\n",
      "       requires_grad=True)\n",
      "Gradient - tensor([[ 0.0007,  0.0007,  0.0007,  ...,  0.0007,  0.0007,  0.0007],\n",
      "        [ 0.0048,  0.0048,  0.0048,  ...,  0.0048,  0.0048,  0.0048],\n",
      "        [ 0.0020,  0.0020,  0.0020,  ...,  0.0020,  0.0020,  0.0020],\n",
      "        ...,\n",
      "        [ 0.0007,  0.0007,  0.0007,  ...,  0.0007,  0.0007,  0.0007],\n",
      "        [ 0.0000,  0.0000,  0.0000,  ...,  0.0000,  0.0000,  0.0000],\n",
      "        [-0.0010, -0.0010, -0.0010,  ..., -0.0010, -0.0010, -0.0010]])\n"
     ]
    }
   ],
   "source": [
    "\n",
    "print('Initial weights - ', model[0].weight)\n",
    "\n",
    "images, labels = next(iter(trainloader))\n",
    "images.resize_(64, 784)\n",
    "\n",
    "# Clear the gradients, do this because gradients are accumulated\n",
    "optimizer.zero_grad()\n",
    "\n",
    "# Forward pass, then backward pass, then update weights\n",
    "output = model.forward(images)\n",
    "loss = criterion(output, labels)\n",
    "loss.backward()\n",
    "print('Gradient -', model[0].weight.grad)"
   ]
  },
  {
   "cell_type": "code",
   "execution_count": 131,
   "id": "0604fffa",
   "metadata": {},
   "outputs": [
    {
     "name": "stdout",
     "output_type": "stream",
     "text": [
      "Updated weights -  Parameter containing:\n",
      "tensor([[ 0.0303, -0.0244, -0.0023,  ...,  0.0008,  0.0349,  0.0341],\n",
      "        [-0.0085,  0.0197,  0.0331,  ..., -0.0102, -0.0208, -0.0184],\n",
      "        [ 0.0185, -0.0199,  0.0063,  ..., -0.0063, -0.0104, -0.0237],\n",
      "        ...,\n",
      "        [ 0.0048, -0.0214, -0.0080,  ...,  0.0345, -0.0298,  0.0005],\n",
      "        [-0.0049, -0.0287, -0.0023,  ...,  0.0301,  0.0098,  0.0202],\n",
      "        [ 0.0013,  0.0331,  0.0166,  ...,  0.0260,  0.0252, -0.0070]],\n",
      "       requires_grad=True)\n"
     ]
    }
   ],
   "source": [
    "optimizer.step()\n",
    "print('Updated weights - ', model[0].weight)"
   ]
  },
  {
   "cell_type": "code",
   "execution_count": 16,
   "id": "5eef5a5a",
   "metadata": {},
   "outputs": [
    {
     "name": "stdout",
     "output_type": "stream",
     "text": [
      "tensor(2.2941, grad_fn=<NllLossBackward>)\n"
     ]
    }
   ],
   "source": [
    "from torch import optim\n",
    "model=nn.Sequential(nn.Linear(784,128),\n",
    "                    nn.ReLU(),\n",
    "                    nn.Linear(128,64),\n",
    "                    nn.ReLU(),\n",
    "                    nn.Linear(64,10),\n",
    "                    nn.LogSoftmax(dim=1))\n",
    "\n",
    "criterion=nn.NLLLoss()\n",
    "images,labels=next(iter(trainloader))\n",
    "images=images.view(images.shape[0],-1)\n",
    "\n",
    "logits=model(images)\n",
    "\n",
    "loss=criterion(logits,labels)\n",
    "print(loss)"
   ]
  },
  {
   "cell_type": "code",
   "execution_count": 17,
   "id": "7906ac15",
   "metadata": {},
   "outputs": [],
   "source": [
    "optimizer=optim.SGD(model.parameters(),lr=0.01)"
   ]
  },
  {
   "cell_type": "code",
   "execution_count": 30,
   "id": "ecda5a1f",
   "metadata": {},
   "outputs": [
    {
     "name": "stdout",
     "output_type": "stream",
     "text": [
      "Initial weight - Parameter containing:\n",
      "tensor([[ 1.8434e-02, -2.6530e-02, -7.5079e-03,  ...,  2.9798e-02,\n",
      "         -2.2629e-02,  8.0181e-03],\n",
      "        [ 1.5275e-02, -1.7209e-02, -1.4633e-02,  ..., -2.9638e-02,\n",
      "          5.0455e-03, -1.3379e-02],\n",
      "        [ 3.2213e-02, -1.6221e-02,  3.4404e-02,  ..., -6.0480e-06,\n",
      "         -2.3350e-02, -1.0324e-02],\n",
      "        ...,\n",
      "        [ 1.4652e-02, -2.6084e-02, -7.2943e-03,  ..., -3.4590e-02,\n",
      "         -9.3281e-03,  1.8467e-02],\n",
      "        [-3.2897e-02, -2.6056e-02, -3.2102e-02,  ..., -3.4296e-02,\n",
      "          2.4489e-02, -1.0366e-02],\n",
      "        [ 1.0237e-02,  1.2245e-03, -1.8318e-02,  ..., -2.1670e-02,\n",
      "          1.4924e-02, -1.0158e-02]], requires_grad=True)\n",
      "Gradient - tensor([[-4.8165e-03, -4.8165e-03, -4.8165e-03,  ..., -4.8165e-03,\n",
      "         -4.8165e-03, -4.8165e-03],\n",
      "        [-7.4730e-05, -7.4730e-05, -7.4730e-05,  ..., -7.4730e-05,\n",
      "         -7.4730e-05, -7.4730e-05],\n",
      "        [ 7.2352e-04,  7.2352e-04,  7.2352e-04,  ...,  7.2352e-04,\n",
      "          7.2352e-04,  7.2352e-04],\n",
      "        ...,\n",
      "        [ 1.0824e-03,  1.0824e-03,  1.0824e-03,  ...,  1.0824e-03,\n",
      "          1.0824e-03,  1.0824e-03],\n",
      "        [-5.4531e-03, -5.4531e-03, -5.4531e-03,  ..., -5.4531e-03,\n",
      "         -5.4531e-03, -5.4531e-03],\n",
      "        [-2.2192e-03, -2.2192e-03, -2.2192e-03,  ..., -2.2192e-03,\n",
      "         -2.2192e-03, -2.2192e-03]])\n"
     ]
    }
   ],
   "source": [
    "print('Initial weight -',model[0].weight)\n",
    "images,labels=next(iter(trainloader))\n",
    "images=images.view(images.shape[0],-1)\n",
    "\n",
    "optimizer.zero_grad()\n",
    "\n",
    "output=model.forward(images)\n",
    "\n",
    "loss=criterion(output,labels)\n",
    "\n",
    "loss.backward()\n",
    "print('Gradient -',model[0].weight.grad)"
   ]
  },
  {
   "cell_type": "code",
   "execution_count": 31,
   "id": "b8a95e40",
   "metadata": {},
   "outputs": [
    {
     "name": "stdout",
     "output_type": "stream",
     "text": [
      "updated weights - Parameter containing:\n",
      "tensor([[ 1.8482e-02, -2.6481e-02, -7.4597e-03,  ...,  2.9846e-02,\n",
      "         -2.2581e-02,  8.0663e-03],\n",
      "        [ 1.5275e-02, -1.7208e-02, -1.4632e-02,  ..., -2.9637e-02,\n",
      "          5.0463e-03, -1.3378e-02],\n",
      "        [ 3.2205e-02, -1.6229e-02,  3.4397e-02,  ..., -1.3283e-05,\n",
      "         -2.3357e-02, -1.0331e-02],\n",
      "        ...,\n",
      "        [ 1.4641e-02, -2.6095e-02, -7.3051e-03,  ..., -3.4601e-02,\n",
      "         -9.3390e-03,  1.8456e-02],\n",
      "        [-3.2843e-02, -2.6001e-02, -3.2047e-02,  ..., -3.4241e-02,\n",
      "          2.4544e-02, -1.0311e-02],\n",
      "        [ 1.0259e-02,  1.2467e-03, -1.8296e-02,  ..., -2.1647e-02,\n",
      "          1.4947e-02, -1.0136e-02]], requires_grad=True)\n"
     ]
    }
   ],
   "source": [
    "optimizer.step()\n",
    "print('updated weights -',model[0].weight)"
   ]
  },
  {
   "cell_type": "code",
   "execution_count": 32,
   "id": "df324d3a",
   "metadata": {},
   "outputs": [
    {
     "name": "stdout",
     "output_type": "stream",
     "text": [
      "1.9416029115221394\n",
      "0.8784178802961988\n",
      "0.5310149818086929\n",
      "0.43541930644496923\n",
      "0.3912939190832791\n"
     ]
    }
   ],
   "source": [
    "from torch import optim\n",
    "model=nn.Sequential(nn.Linear(784,128),\n",
    "                    nn.ReLU(),\n",
    "                    nn.Linear(128,64),\n",
    "                    nn.ReLU(),\n",
    "                    nn.Linear(64,10),\n",
    "                    nn.LogSoftmax(dim=1))\n",
    "\n",
    "criterion=nn.NLLLoss()\n",
    "optimizer=optim.SGD(model.parameters(),lr=0.003)\n",
    "\n",
    "epochs=5\n",
    "\n",
    "for e in range(epochs):\n",
    "    running_loss=0\n",
    "    for images,labels in trainloader:\n",
    "        optimizer.zero_grad()\n",
    "        images=images.view(images.shape[0],-1)\n",
    "        output= model.forward(images)\n",
    "        \n",
    "        loss=criterion(output,labels)\n",
    "        loss.backward()\n",
    "        optimizer.step()\n",
    "        running_loss+=loss.item()\n",
    "    else:\n",
    "        print(running_loss/len(trainloader))"
   ]
  },
  {
   "cell_type": "code",
   "execution_count": null,
   "id": "1c5a72f7",
   "metadata": {},
   "outputs": [],
   "source": []
  }
 ],
 "metadata": {
  "kernelspec": {
   "display_name": "Python 3",
   "language": "python",
   "name": "python3"
  },
  "language_info": {
   "codemirror_mode": {
    "name": "ipython",
    "version": 3
   },
   "file_extension": ".py",
   "mimetype": "text/x-python",
   "name": "python",
   "nbconvert_exporter": "python",
   "pygments_lexer": "ipython3",
   "version": "3.8.8"
  }
 },
 "nbformat": 4,
 "nbformat_minor": 5
}
