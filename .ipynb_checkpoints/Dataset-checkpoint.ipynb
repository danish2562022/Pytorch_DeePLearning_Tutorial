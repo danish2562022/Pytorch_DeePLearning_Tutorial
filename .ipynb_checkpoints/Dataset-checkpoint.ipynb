{
 "cells": [
  {
   "cell_type": "code",
   "execution_count": 1,
   "metadata": {},
   "outputs": [
    {
     "data": {
      "text/plain": [
       "<torch._C.Generator at 0x275abf9ea30>"
      ]
     },
     "execution_count": 1,
     "metadata": {},
     "output_type": "execute_result"
    }
   ],
   "source": [
    "\n",
    "import torch\n",
    "from torch.utils.data import Dataset\n",
    "torch.manual_seed(1)"
   ]
  },
  {
   "cell_type": "code",
   "execution_count": 6,
   "metadata": {},
   "outputs": [],
   "source": [
    "\n",
    "class toy_set(Dataset):\n",
    "    \n",
    "    # Constructor with defult values \n",
    "    def __init__(self, length = 100, transform = None):\n",
    "        self.len = length\n",
    "        self.x = 2 * torch.ones(length, 2)\n",
    "        self.y = torch.ones(length, 1)\n",
    "        self.transform = transform\n",
    "     \n",
    "    # Getter\n",
    "    def __getitem__(self, index):\n",
    "        sample = self.x[index], self.y[index]\n",
    "        if self.transform:\n",
    "            sample = self.transform(sa\n",
    "    mple)     \n",
    "        return sample\n",
    "    # Get Length\n",
    "    def __len__(self):\n",
    "        return self.len"
   ]
  },
  {
   "cell_type": "code",
   "execution_count": 7,
   "metadata": {},
   "outputs": [
    {
     "name": "stdout",
     "output_type": "stream",
     "text": [
      "Our toy_set object:  <__main__.toy_set object at 0x00000275CF2B1B50>\n",
      "Value on index 0 of our toy_set object:  (tensor([2., 2.]), tensor([1.]))\n",
      "Our toy_set length:  100\n"
     ]
    }
   ],
   "source": [
    "# Create Dataset Object. Find out the value on index 1. Find out the length of Dataset Object.\n",
    "\n",
    "our_dataset = toy_set()\n",
    "print(\"Our toy_set object: \", our_dataset)\n",
    "print(\"Value on index 0 of our toy_set object: \", our_dataset[0])\n",
    "print(\"Our toy_set length: \", len(our_dataset))"
   ]
  },
  {
   "cell_type": "code",
   "execution_count": 8,
   "metadata": {},
   "outputs": [
    {
     "name": "stdout",
     "output_type": "stream",
     "text": [
      "<__main__.toy_set object at 0x00000275CF2B1EE0>\n",
      "(tensor([2., 2.]), tensor([1.]))\n",
      "100\n"
     ]
    }
   ],
   "source": [
    "ourdataset=toy_set()\n",
    "print(ourdataset)\n",
    "print(ourdataset[0])\n",
    "print(len(ourdataset))"
   ]
  },
  {
   "cell_type": "code",
   "execution_count": 10,
   "metadata": {},
   "outputs": [
    {
     "name": "stdout",
     "output_type": "stream",
     "text": [
      "Our toy_set object:  <__main__.toy_set object at 0x00000275CF2B1760>\n",
      "Value on index 0 of our toy_set object:  (tensor([2., 2.]), tensor([1.]))\n",
      "Our toy_set length:  200\n"
     ]
    }
   ],
   "source": [
    "our_dataset = toy_set(length=200)\n",
    "print(\"Our toy_set object: \", our_dataset)\n",
    "print(\"Value on index 0 of our toy_set object: \", our_dataset[0])\n",
    "print(\"Our toy_set length: \", len(our_dataset))"
   ]
  },
  {
   "cell_type": "markdown",
   "metadata": {},
   "source": [
    "<h3>Transform</h3>"
   ]
  },
  {
   "cell_type": "code",
   "execution_count": 11,
   "metadata": {},
   "outputs": [],
   "source": [
    "class add_mult(object):\n",
    "    \n",
    "    def __init__(self,addx=1,muly=2):\n",
    "        self.addx=addx\n",
    "        self.muly=muly\n",
    "        \n",
    "    def __call__(self,sample):\n",
    "        x=sample[0]\n",
    "        y=sample[1]\n",
    "        x=x+self.addx\n",
    "        y=y*self.muly\n",
    "        sample=x,y\n",
    "        return sample"
   ]
  },
  {
   "cell_type": "code",
   "execution_count": 12,
   "metadata": {},
   "outputs": [],
   "source": [
    "a_m=add_mult()\n",
    "data_set=toy_set()"
   ]
  },
  {
   "cell_type": "code",
   "execution_count": 14,
   "metadata": {},
   "outputs": [
    {
     "name": "stdout",
     "output_type": "stream",
     "text": [
      "before transformation  tensor([2., 2.]) tensor([1.])\n",
      "trasnsformed  tensor([3., 3.]) tensor([2.])\n",
      "before transformation  tensor([2., 2.]) tensor([1.])\n",
      "trasnsformed  tensor([3., 3.]) tensor([2.])\n",
      "before transformation  tensor([2., 2.]) tensor([1.])\n",
      "trasnsformed  tensor([3., 3.]) tensor([2.])\n",
      "before transformation  tensor([2., 2.]) tensor([1.])\n",
      "trasnsformed  tensor([3., 3.]) tensor([2.])\n",
      "before transformation  tensor([2., 2.]) tensor([1.])\n",
      "trasnsformed  tensor([3., 3.]) tensor([2.])\n",
      "before transformation  tensor([2., 2.]) tensor([1.])\n",
      "trasnsformed  tensor([3., 3.]) tensor([2.])\n",
      "before transformation  tensor([2., 2.]) tensor([1.])\n",
      "trasnsformed  tensor([3., 3.]) tensor([2.])\n",
      "before transformation  tensor([2., 2.]) tensor([1.])\n",
      "trasnsformed  tensor([3., 3.]) tensor([2.])\n",
      "before transformation  tensor([2., 2.]) tensor([1.])\n",
      "trasnsformed  tensor([3., 3.]) tensor([2.])\n",
      "before transformation  tensor([2., 2.]) tensor([1.])\n",
      "trasnsformed  tensor([3., 3.]) tensor([2.])\n"
     ]
    }
   ],
   "source": [
    "for i in range(10):\n",
    "    x,y=data_set[i]\n",
    "    print(\"before transformation \",x,y)\n",
    "    x_,y_=a_m(data_set[i])\n",
    "    print(\"trasnsformed \",x_,y_)"
   ]
  },
  {
   "cell_type": "code",
   "execution_count": 17,
   "metadata": {},
   "outputs": [
    {
     "name": "stdout",
     "output_type": "stream",
     "text": [
      "before transformation  tensor([2., 2.]) tensor([1.])\n",
      "trasnsformed  tensor([3., 3.]) tensor([2.])\n",
      "before transformation  tensor([2., 2.]) tensor([1.])\n",
      "trasnsformed  tensor([3., 3.]) tensor([2.])\n",
      "before transformation  tensor([2., 2.]) tensor([1.])\n",
      "trasnsformed  tensor([3., 3.]) tensor([2.])\n",
      "before transformation  tensor([2., 2.]) tensor([1.])\n",
      "trasnsformed  tensor([3., 3.]) tensor([2.])\n",
      "before transformation  tensor([2., 2.]) tensor([1.])\n",
      "trasnsformed  tensor([3., 3.]) tensor([2.])\n",
      "before transformation  tensor([2., 2.]) tensor([1.])\n",
      "trasnsformed  tensor([3., 3.]) tensor([2.])\n",
      "before transformation  tensor([2., 2.]) tensor([1.])\n",
      "trasnsformed  tensor([3., 3.]) tensor([2.])\n",
      "before transformation  tensor([2., 2.]) tensor([1.])\n",
      "trasnsformed  tensor([3., 3.]) tensor([2.])\n",
      "before transformation  tensor([2., 2.]) tensor([1.])\n",
      "trasnsformed  tensor([3., 3.]) tensor([2.])\n",
      "before transformation  tensor([2., 2.]) tensor([1.])\n",
      "trasnsformed  tensor([3., 3.]) tensor([2.])\n"
     ]
    }
   ],
   "source": [
    "#another method\n",
    "cust_data_set=toy_set(transform=a_m)\n",
    "for i in range(10):\n",
    "    x,y=data_set[i]\n",
    "    print(\"before transformation \",x,y)\n",
    "    x_,y_=cust_data_set[i]\n",
    "    print(\"trasnsformed \",x_,y_)"
   ]
  },
  {
   "cell_type": "code",
   "execution_count": 21,
   "metadata": {},
   "outputs": [],
   "source": [
    "class my_add_mult(object):\n",
    "    \n",
    "    def __init__(self,addx=20,muly=200):\n",
    "        self.addx=addx\n",
    "        self.muly=muly\n",
    "        \n",
    "    def __call__(self,sample):\n",
    "        x=sample[0]\n",
    "        y=sample[1]\n",
    "        x=x+self.addx\n",
    "        y=y+self.muly\n",
    "        sample=x,y\n",
    "        return sample"
   ]
  },
  {
   "cell_type": "code",
   "execution_count": 23,
   "metadata": {},
   "outputs": [
    {
     "name": "stdout",
     "output_type": "stream",
     "text": [
      "tensor([2., 2.]) tensor([1.])\n",
      "tensor([22., 22.]) tensor([201.])\n",
      "tensor([2., 2.]) tensor([1.])\n",
      "tensor([22., 22.]) tensor([201.])\n",
      "tensor([2., 2.]) tensor([1.])\n",
      "tensor([22., 22.]) tensor([201.])\n"
     ]
    }
   ],
   "source": [
    "a_c= my_add_mult()\n",
    "cust_data=toy_set(transform=a_c)\n",
    "for i in range(3):\n",
    "    x,y=data_set[i]\n",
    "    print(x,y)\n",
    "    x_,y_=cust_data[i]\n",
    "    print(x_,y_)"
   ]
  },
  {
   "cell_type": "markdown",
   "metadata": {},
   "source": [
    "<h2>Compose</h2>"
   ]
  },
  {
   "cell_type": "code",
   "execution_count": 24,
   "metadata": {},
   "outputs": [],
   "source": [
    "from torchvision import transforms"
   ]
  },
  {
   "cell_type": "code",
   "execution_count": 25,
   "metadata": {},
   "outputs": [],
   "source": [
    "class mult(object):\n",
    "    \n",
    "    def __init__(self,mult=100):\n",
    "        self.mult=mult\n",
    "    \n",
    "    def __call__(self,sample):\n",
    "        x=sample[0]\n",
    "        y=sample[1]\n",
    "        x=x*self.mult\n",
    "        y=y*self.mult\n",
    "        sample=x,y\n",
    "        return sample"
   ]
  },
  {
   "cell_type": "code",
   "execution_count": 26,
   "metadata": {},
   "outputs": [
    {
     "name": "stdout",
     "output_type": "stream",
     "text": [
      "The combination of transforms (Compose):  Compose(\n",
      "    <__main__.my_add_mult object at 0x00000275CF863C70>\n",
      "    <__main__.mult object at 0x00000275CF863D60>\n",
      ")\n"
     ]
    }
   ],
   "source": [
    "data_transform=transforms.Compose([my_add_mult(),mult()])\n",
    "print(\"The combination of transforms (Compose): \", data_transform)\n"
   ]
  },
  {
   "cell_type": "code",
   "execution_count": 27,
   "metadata": {},
   "outputs": [
    {
     "name": "stdout",
     "output_type": "stream",
     "text": [
      "Original x:  tensor([2., 2.]) Original y:  tensor([1.])\n",
      "Transformed x_: tensor([2200., 2200.]) Transformed y_: tensor([20100.])\n"
     ]
    }
   ],
   "source": [
    "data_transform(data_set[0])\n",
    "x,y=data_set[0]\n",
    "x_,y_=data_transform(data_set[0])\n",
    "print( 'Original x: ', x, 'Original y: ', y)\n",
    "\n",
    "print( 'Transformed x_:', x_, 'Transformed y_:', y_)"
   ]
  },
  {
   "cell_type": "code",
   "execution_count": 28,
   "metadata": {},
   "outputs": [
    {
     "name": "stdout",
     "output_type": "stream",
     "text": [
      "Index:  0 Original x:  tensor([2., 2.]) Original y:  tensor([1.])\n",
      "Index:  0 Transformed x_: tensor([3., 3.]) Transformed y_: tensor([2.])\n",
      "Index:  0 Compose Transformed x_co:  tensor([2200., 2200.]) Compose Transformed y_co:  tensor([20100.])\n",
      "Index:  1 Original x:  tensor([2., 2.]) Original y:  tensor([1.])\n",
      "Index:  1 Transformed x_: tensor([3., 3.]) Transformed y_: tensor([2.])\n",
      "Index:  1 Compose Transformed x_co:  tensor([2200., 2200.]) Compose Transformed y_co:  tensor([20100.])\n",
      "Index:  2 Original x:  tensor([2., 2.]) Original y:  tensor([1.])\n",
      "Index:  2 Transformed x_: tensor([3., 3.]) Transformed y_: tensor([2.])\n",
      "Index:  2 Compose Transformed x_co:  tensor([2200., 2200.]) Compose Transformed y_co:  tensor([20100.])\n"
     ]
    }
   ],
   "source": [
    "compose_data_set = toy_set(transform = data_transform)\n",
    "# Use loop to print out first 3 elements in dataset\n",
    "\n",
    "for i in range(3):\n",
    "    x, y = data_set[i]\n",
    "    print('Index: ', i, 'Original x: ', x, 'Original y: ', y)\n",
    "    x_, y_ = cust_data_set[i]\n",
    "    print('Index: ', i, 'Transformed x_:', x_, 'Transformed y_:', y_)\n",
    "    x_co, y_co = compose_data_set[i]\n",
    "    print('Index: ', i, 'Compose Transformed x_co: ', x_co ,'Compose Transformed y_co: ',y_co)"
   ]
  },
  {
   "cell_type": "code",
   "execution_count": null,
   "metadata": {},
   "outputs": [],
   "source": []
  }
 ],
 "metadata": {
  "kernelspec": {
   "display_name": "Python 3",
   "language": "python",
   "name": "python3"
  },
  "language_info": {
   "codemirror_mode": {
    "name": "ipython",
    "version": 3
   },
   "file_extension": ".py",
   "mimetype": "text/x-python",
   "name": "python",
   "nbconvert_exporter": "python",
   "pygments_lexer": "ipython3",
   "version": "3.8.3"
  }
 },
 "nbformat": 4,
 "nbformat_minor": 4
}
